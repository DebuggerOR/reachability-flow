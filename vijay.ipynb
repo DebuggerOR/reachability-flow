{
 "cells": [
  {
   "cell_type": "markdown",
   "metadata": {
    "collapsed": true,
    "pycharm": {
     "name": "#%% md\n"
    }
   },
   "source": [
    "# Lack of Robots with Horizontal Lines"
   ]
  },
  {
   "cell_type": "code",
   "execution_count": 291,
   "outputs": [],
   "source": [
    "import math\n",
    "\n",
    "import networkx as nx\n",
    "import matplotlib.pyplot as plt\n",
    "import random as rand"
   ],
   "metadata": {
    "collapsed": false,
    "pycharm": {
     "name": "#%%\n"
    }
   }
  },
  {
   "cell_type": "markdown",
   "source": [
    "## Settings"
   ],
   "metadata": {
    "collapsed": false
   }
  },
  {
   "cell_type": "code",
   "execution_count": 292,
   "outputs": [
    {
     "data": {
      "text/plain": "<matplotlib.collections.PathCollection at 0x1fa4f9665b0>"
     },
     "execution_count": 292,
     "metadata": {},
     "output_type": "execute_result"
    },
    {
     "data": {
      "text/plain": "<Figure size 432x288 with 1 Axes>",
      "image/png": "[encoded data removed]"
     },
     "metadata": {
      "needs_background": "light"
     },
     "output_type": "display_data"
    }
   ],
   "source": [
    "n=4\n",
    "k=2\n",
    "v=1\n",
    "fv=2\n",
    "\n",
    "low,high=0,10\n",
    "\n",
    "rand.seed(3)\n",
    "# agents = [(rand.uniform(low,high),rand.uniform(low,high)) for _ in range(n)]\n",
    "# robots = [(rand.uniform(low,high),rand.uniform(low,high)) for _ in range(k)]\n",
    "\n",
    "agents = [(2,7),(3,6)]\n",
    "# (6,5),(7,7)]\n",
    "robots = [(4,4),(5,4)]\n",
    "\n",
    "\n",
    "plt.scatter(*zip(*agents),color='red')\n",
    "plt.scatter(*zip(*robots),color='blue')"
   ],
   "metadata": {
    "collapsed": false,
    "pycharm": {
     "name": "#%%\n"
    }
   }
  },
  {
   "cell_type": "markdown",
   "source": [
    "## Using Networkx"
   ],
   "metadata": {
    "collapsed": false
   }
  },
  {
   "cell_type": "code",
   "execution_count": 293,
   "outputs": [],
   "source": [
    "g = nx.DiGraph()\n",
    "\n",
    "for i in range(len(robots)):\n",
    "    g.add_node(f'r{i}', pos=robots[i], color='cyan')\n",
    "\n",
    "for i in range(len(agents)):\n",
    "    g.add_node(f'a{i}', pos=agents[i], color='pink')"
   ],
   "metadata": {
    "collapsed": false,
    "pycharm": {
     "name": "#%%\n"
    }
   }
  },
  {
   "cell_type": "code",
   "execution_count": 294,
   "outputs": [
    {
     "name": "stdout",
     "output_type": "stream",
     "text": [
      "[('r0', {'pos': (4, 4), 'color': 'cyan'}), ('r1', {'pos': (5, 4), 'color': 'cyan'}), ('a0', {'pos': (2, 7), 'color': 'pink'}), ('a1', {'pos': (3, 6), 'color': 'pink'})]\n",
      "[]\n"
     ]
    },
    {
     "data": {
      "text/plain": "<Figure size 432x288 with 1 Axes>",
      "image/png": "[encoded data removed]"
     },
     "metadata": {},
     "output_type": "display_data"
    }
   ],
   "source": [
    "print(g.nodes(data=True))\n",
    "\n",
    "print(g.edges(data=True))\n",
    "\n",
    "nx.draw(g,\n",
    "        pos=nx.get_node_attributes(g,'pos'),\n",
    "        with_labels=True,\n",
    "        node_color=nx.get_node_attributes(g, 'color').values())"
   ],
   "metadata": {
    "collapsed": false,
    "pycharm": {
     "name": "#%%\n"
    }
   }
  },
  {
   "cell_type": "markdown",
   "source": [
    "## 1-Line Reachability Graph"
   ],
   "metadata": {
    "collapsed": false,
    "pycharm": {
     "name": "#%% md\n"
    }
   }
  },
  {
   "cell_type": "code",
   "execution_count": 295,
   "outputs": [],
   "source": [
    "def can_stop_on_line(r,a,h):\n",
    "    x_a,y_a = a\n",
    "    x_r,y_r = r\n",
    "    t_a = (h-y_a) / v\n",
    "    t_r = math.sqrt((x_a-x_r)**2 + (h-y_r)**2) / fv\n",
    "    return t_r <= t_a"
   ],
   "metadata": {
    "collapsed": false,
    "pycharm": {
     "name": "#%%\n"
    }
   }
  },
  {
   "cell_type": "code",
   "execution_count": 296,
   "outputs": [],
   "source": [
    "h = 10\n",
    "\n",
    "g = nx.DiGraph()\n",
    "\n",
    "# create robots\n",
    "for i in range(len(robots)):\n",
    "    g.add_node(f'r{i}', pos=robots[i], color='cyan')\n",
    "\n",
    "# create agents divided to in and out\n",
    "for i in range(len(agents)):\n",
    "    pos_x,pos_y = agents[i]\n",
    "    g.add_node(f'ai{i}', pos=(pos_x-0.5,pos_y), color='pink')\n",
    "    g.add_node(f'ao{i}', pos=(pos_x+0.5,pos_y), color='pink')\n",
    "    g.add_edge(f'ai{i}', f'ao{i}', weight=-1, capacity=1)\n",
    "\n",
    "# add edges from robots to agents\n",
    "for i in range(len(agents)):\n",
    "    for j in range(len(robots)):\n",
    "        if can_stop_on_line(robots[j], agents[i], h):\n",
    "            g.add_edge(f'r{j}', f'ai{i}', weight=0, capacity=1)\n",
    "\n",
    "# add edges between agents\n",
    "for i in range(len(agents)):\n",
    "    for j in range(len(agents)):\n",
    "        if i is j:\n",
    "            continue\n",
    "        if can_stop_on_line((agents[i][0],h), (agents[j][0], agents[j][1]+(h-agents[i][1])) ,h):\n",
    "            g.add_edge(f'ao{i}', f'ai{j}', weight=0, capacity=1)"
   ],
   "metadata": {
    "collapsed": false,
    "pycharm": {
     "name": "#%%\n"
    }
   }
  },
  {
   "cell_type": "code",
   "execution_count": 297,
   "outputs": [
    {
     "data": {
      "text/plain": "[<matplotlib.lines.Line2D at 0x1fa4e47ed60>]"
     },
     "execution_count": 297,
     "metadata": {},
     "output_type": "execute_result"
    },
    {
     "data": {
      "text/plain": "<Figure size 432x288 with 1 Axes>",
      "image/png": "[encoded data removed]"
     },
     "metadata": {},
     "output_type": "display_data"
    }
   ],
   "source": [
    "nx.draw(g,\n",
    "        pos=nx.get_node_attributes(g,'pos'),\n",
    "        with_labels=True,\n",
    "        node_color=nx.get_node_attributes(g, 'color').values())\n",
    "\n",
    "plt.plot([low,high],[h,h])"
   ],
   "metadata": {
    "collapsed": false,
    "pycharm": {
     "name": "#%%\n"
    }
   }
  },
  {
   "cell_type": "code",
   "execution_count": 298,
   "outputs": [
    {
     "name": "stdout",
     "output_type": "stream",
     "text": [
      "flow: {'r0': {'ai1': 0, 't': 1}, 'r1': {'ai1': 1, 't': 0}, 'ai0': {'ao0': 0}, 'ao0': {'ai1': 0, 't': 0}, 'ai1': {'ao1': 1}, 'ao1': {'t': 1}, 's': {'r0': 1, 'r1': 1}, 't': {}}\n",
      "r0->t\n",
      "r1->ai1\n",
      "ai1->ao1\n",
      "ao1->t\n",
      "s->r0\n",
      "s->r1\n",
      "cost: -1\n"
     ]
    }
   ],
   "source": [
    "# add dummy source and target to use flow\n",
    "for i in range(len(robots)):\n",
    "    g.add_edge('s', f'r{i}', weight=0, capacity=1)\n",
    "    g.add_edge(f'r{i}', 't', weight=0, capacity=1)\n",
    "\n",
    "for i in range(len(agents)):\n",
    "    g.add_edge(f'ao{i}', 't', weight=0, capacity=1)\n",
    "\n",
    "flow = nx.max_flow_min_cost(g, 's', 't')\n",
    "\n",
    "print(f'flow: {flow}')\n",
    "for v1, vs in flow.items():\n",
    "    for v2 in vs:\n",
    "        if vs[v2]:\n",
    "            print(f'{v1}->{v2}')\n",
    "print(f'cost: {nx.cost_of_flow(g, flow)}')"
   ],
   "metadata": {
    "collapsed": false,
    "pycharm": {
     "name": "#%%\n"
    }
   }
  },
  {
   "cell_type": "markdown",
   "source": [
    "## Multi-Line Reachability Graph"
   ],
   "metadata": {
    "collapsed": false
   }
  },
  {
   "cell_type": "code",
   "execution_count": 299,
   "outputs": [],
   "source": [
    "H = [2,4,9]\n",
    "\n",
    "g = nx.DiGraph()\n",
    "\n",
    "# create robots\n",
    "for i in range(len(robots)):\n",
    "    g.add_node(f'r{i}', pos=robots[i], color='cyan')\n",
    "\n",
    "# create agents divided to in and out\n",
    "for i in range(len(agents)):\n",
    "    for h in H:\n",
    "        g.add_node(f'{h}-ai{i}', color='pink')\n",
    "        g.add_node(f'{h}-ao{i}', color='pink')\n",
    "        g.add_edge(f'{h}-ai{i}', f'{h}-ao{i}', weight=-(max(H)-h+1), capacity=1)\n",
    "\n",
    "# add edges from robots to agents\n",
    "for i in range(len(agents)):\n",
    "    for j in range(len(robots)):\n",
    "        for h in H:\n",
    "            if can_stop_on_line(robots[j], agents[i], h):\n",
    "                g.add_edge(f'r{j}', f'{h}-ai{i}', weight=0, capacity=1)\n",
    "\n",
    "# add edges between agents\n",
    "for i in range(len(agents)):\n",
    "    for j in range(len(agents)):\n",
    "        if i is j:\n",
    "            continue\n",
    "        for h1 in H:\n",
    "            for h2 in H:\n",
    "                if can_stop_on_line((agents[i][0],h1), (agents[j][0], agents[j][1]+(h1-agents[i][1])) ,h2):\n",
    "                    g.add_edge(f'{h}-ao{i}', f'{h}-ai{j}', weight=0, capacity=1)"
   ],
   "metadata": {
    "collapsed": false,
    "pycharm": {
     "name": "#%%\n"
    }
   }
  },
  {
   "cell_type": "code",
   "execution_count": 300,
   "outputs": [
    {
     "data": {
      "text/plain": "{('r0', '9-ai1'): Text(0.8117448014372384, -0.3909157903806372, '0'),\n ('r1', '9-ai1'): Text(0.7622292264775327, -0.17397391310468435, '0'),\n ('2-ai0', '2-ao0'): Text(0.4230053811285948, 0.8783797178452828, '-8'),\n ('4-ai0', '4-ao0'): Text(-0.42300537474238287, 0.8783797178452828, '-6'),\n ('9-ai0', '9-ao0'): Text(-0.9504844250402944, 0.2169418823837948, '-1'),\n ('9-ao0', '9-ai1'): Text(-0.1882551943052871, -0.3909158340920253, '0'),\n ('2-ai1', '2-ao1'): Text(-0.7622292349924819, -0.60785766765659, '-8'),\n ('4-ai1', '4-ao1'): Text(1.0643686529365759e-08, -0.9749278790540411, '-6'),\n ('9-ai1', '9-ao1'): Text(0.7622292264775327, -0.60785766765659, '-1'),\n ('9-ao1', '9-ai0'): Text(-4.257474595092958e-09, 4.8819230102914446e-08, '0')}"
     },
     "execution_count": 300,
     "metadata": {},
     "output_type": "execute_result"
    },
    {
     "data": {
      "text/plain": "<Figure size 432x288 with 1 Axes>",
      "image/png": "[encoded data removed]"
     },
     "metadata": {},
     "output_type": "display_data"
    }
   ],
   "source": [
    "pos = nx.circular_layout(g)\n",
    "nx.draw(g,\n",
    "        pos=pos,\n",
    "        with_labels=True,\n",
    "        node_color=nx.get_node_attributes(g, 'color').values())\n",
    "\n",
    "labels = nx.get_edge_attributes(g,'weight')\n",
    "nx.draw_networkx_edge_labels(g,pos,edge_labels=labels)"
   ],
   "metadata": {
    "collapsed": false,
    "pycharm": {
     "name": "#%%\n"
    }
   }
  },
  {
   "cell_type": "code",
   "execution_count": 301,
   "outputs": [
    {
     "name": "stdout",
     "output_type": "stream",
     "text": [
      "flow: {'r0': {'9-ai1': 0, 't': 1}, 'r1': {'9-ai1': 1, 't': 0}, '2-ai0': {'2-ao0': 0}, '2-ao0': {'t': 0}, '4-ai0': {'4-ao0': 0}, '4-ao0': {'t': 0}, '9-ai0': {'9-ao0': 1}, '9-ao0': {'9-ai1': 0, 't': 1}, '2-ai1': {'2-ao1': 0}, '2-ao1': {'t': 0}, '4-ai1': {'4-ao1': 0}, '4-ao1': {'t': 0}, '9-ai1': {'9-ao1': 1}, '9-ao1': {'9-ai0': 1, 't': 0}, 's': {'r0': 1, 'r1': 1}, 't': {}}\n",
      "r0->t\n",
      "r1->9-ai1\n",
      "9-ai0->9-ao0\n",
      "9-ao0->t\n",
      "9-ai1->9-ao1\n",
      "9-ao1->9-ai0\n",
      "s->r0\n",
      "s->r1\n",
      "cost: -2\n"
     ]
    }
   ],
   "source": [
    "# add dummy source and target to use flow\n",
    "for i in range(len(robots)):\n",
    "    g.add_edge('s', f'r{i}', weight=0, capacity=1)\n",
    "    g.add_edge(f'r{i}', 't', weight=0, capacity=1)\n",
    "\n",
    "for i in range(len(agents)):\n",
    "    for h in H:\n",
    "        g.add_edge(f'{h}-ao{i}', 't', weight=0, capacity=1)\n",
    "\n",
    "flow = nx.max_flow_min_cost(g, 's', 't')\n",
    "\n",
    "print(f'flow: {flow}')\n",
    "for v1, vs in flow.items():\n",
    "    for v2 in vs:\n",
    "        if vs[v2]:\n",
    "            print(f'{v1}->{v2}')\n",
    "print(f'cost: {nx.cost_of_flow(g, flow)}')"
   ],
   "metadata": {
    "collapsed": false,
    "pycharm": {
     "name": "#%%\n"
    }
   }
  }
 ],
 "metadata": {
  "kernelspec": {
   "display_name": "Python 3",
   "language": "python",
   "name": "python3"
  },
  "language_info": {
   "codemirror_mode": {
    "name": "ipython",
    "version": 2
   },
   "file_extension": ".py",
   "mimetype": "text/x-python",
   "name": "python",
   "nbconvert_exporter": "python",
   "pygments_lexer": "ipython2",
   "version": "2.7.6"
  }
 },
 "nbformat": 4,
 "nbformat_minor": 0
}