{
 "cells": [
  {
   "cell_type": "markdown",
   "metadata": {
    "collapsed": true,
    "pycharm": {
     "name": "#%% md\n"
    }
   },
   "source": [
    "# Lack of Robots with Horizontal Lines"
   ]
  },
  {
   "cell_type": "code",
   "execution_count": 527,
   "outputs": [],
   "source": [
    "import math\n",
    "\n",
    "import networkx as nx\n",
    "import matplotlib.pyplot as plt\n",
    "import random as rand"
   ],
   "metadata": {
    "collapsed": false,
    "pycharm": {
     "name": "#%%\n"
    }
   }
  },
  {
   "cell_type": "markdown",
   "source": [
    "## Settings"
   ],
   "metadata": {
    "collapsed": false
   }
  },
  {
   "cell_type": "code",
   "execution_count": 528,
   "outputs": [
    {
     "data": {
      "text/plain": "<matplotlib.collections.PathCollection at 0x1fa55e85b50>"
     },
     "execution_count": 528,
     "metadata": {},
     "output_type": "execute_result"
    },
    {
     "data": {
      "text/plain": "<Figure size 432x288 with 1 Axes>",
      "image/png": "[encoded data removed]"
     },
     "metadata": {
      "needs_background": "light"
     },
     "output_type": "display_data"
    }
   ],
   "source": [
    "n=4\n",
    "k=2\n",
    "v=1\n",
    "fv=2\n",
    "\n",
    "low,high=0,10\n",
    "\n",
    "rand.seed(3)\n",
    "# agents = [(rand.uniform(low,high),rand.uniform(low,high)) for _ in range(n)]\n",
    "# robots = [(rand.uniform(low,high),rand.uniform(low,high)) for _ in range(k)]\n",
    "\n",
    "agents = [(2,7)]\n",
    "robots = [(4,4),(5,4)]\n",
    "\n",
    "\n",
    "plt.scatter(*zip(*agents),color='red')\n",
    "plt.scatter(*zip(*robots),color='blue')"
   ],
   "metadata": {
    "collapsed": false,
    "pycharm": {
     "name": "#%%\n"
    }
   }
  },
  {
   "cell_type": "markdown",
   "source": [
    "## Using Networkx"
   ],
   "metadata": {
    "collapsed": false
   }
  },
  {
   "cell_type": "code",
   "execution_count": 529,
   "outputs": [],
   "source": [
    "g = nx.DiGraph()\n",
    "\n",
    "for i in range(len(robots)):\n",
    "    g.add_node(f'r{i}', pos=robots[i], color='cyan')\n",
    "\n",
    "for i in range(len(agents)):\n",
    "    g.add_node(f'a{i}', pos=agents[i], color='pink')"
   ],
   "metadata": {
    "collapsed": false,
    "pycharm": {
     "name": "#%%\n"
    }
   }
  },
  {
   "cell_type": "code",
   "execution_count": 530,
   "outputs": [
    {
     "name": "stdout",
     "output_type": "stream",
     "text": [
      "[('r0', {'pos': (4, 4), 'color': 'cyan'}), ('r1', {'pos': (5, 4), 'color': 'cyan'}), ('a0', {'pos': (2, 7), 'color': 'pink'})]\n",
      "[]\n"
     ]
    },
    {
     "data": {
      "text/plain": "<Figure size 432x288 with 1 Axes>",
      "image/png": "[encoded data removed]"
     },
     "metadata": {},
     "output_type": "display_data"
    }
   ],
   "source": [
    "print(g.nodes(data=True))\n",
    "\n",
    "print(g.edges(data=True))\n",
    "\n",
    "nx.draw(g,\n",
    "        pos=nx.get_node_attributes(g,'pos'),\n",
    "        with_labels=True,\n",
    "        node_color=nx.get_node_attributes(g, 'color').values())"
   ],
   "metadata": {
    "collapsed": false,
    "pycharm": {
     "name": "#%%\n"
    }
   }
  },
  {
   "cell_type": "markdown",
   "source": [
    "## 1-Line Reachability Graph"
   ],
   "metadata": {
    "collapsed": false,
    "pycharm": {
     "name": "#%% md\n"
    }
   }
  },
  {
   "cell_type": "code",
   "execution_count": 531,
   "outputs": [],
   "source": [
    "def can_stop_on_line(r,a,h):\n",
    "    x_a,y_a = a\n",
    "    x_r,y_r = r\n",
    "    t_a = (h-y_a) / v\n",
    "    t_r = math.sqrt((x_a-x_r)**2 + (h-y_r)**2) / fv\n",
    "    return t_r <= t_a"
   ],
   "metadata": {
    "collapsed": false,
    "pycharm": {
     "name": "#%%\n"
    }
   }
  },
  {
   "cell_type": "code",
   "execution_count": 532,
   "outputs": [],
   "source": [
    "h = 10\n",
    "\n",
    "g = nx.DiGraph()\n",
    "\n",
    "# create robots\n",
    "for i in range(len(robots)):\n",
    "    g.add_node(f'r{i}', pos=robots[i], color='cyan')\n",
    "\n",
    "# create agents divided to in and out\n",
    "for i in range(len(agents)):\n",
    "    pos_x,pos_y = agents[i]\n",
    "    g.add_node(f'ai{i}', pos=(pos_x-0.5,pos_y), color='pink')\n",
    "    g.add_node(f'ao{i}', pos=(pos_x+0.5,pos_y), color='pink')\n",
    "    g.add_edge(f'ai{i}', f'ao{i}', weight=-1, capacity=1)\n",
    "\n",
    "# add edges from robots to agents\n",
    "for i in range(len(agents)):\n",
    "    for j in range(len(robots)):\n",
    "        if can_stop_on_line(robots[j], agents[i], h):\n",
    "            g.add_edge(f'r{j}', f'ai{i}', weight=0, capacity=1)\n",
    "\n",
    "# add edges between agents\n",
    "for i in range(len(agents)):\n",
    "    for j in range(len(agents)):\n",
    "        if i is j:\n",
    "            continue\n",
    "        if can_stop_on_line((agents[i][0],h), (agents[j][0], agents[j][1]+(h-agents[i][1])) ,h):\n",
    "            g.add_edge(f'ao{i}', f'ai{j}', weight=0, capacity=1)"
   ],
   "metadata": {
    "collapsed": false,
    "pycharm": {
     "name": "#%%\n"
    }
   }
  },
  {
   "cell_type": "code",
   "execution_count": 533,
   "outputs": [
    {
     "data": {
      "text/plain": "[<matplotlib.lines.Line2D at 0x1fa55f5a5e0>]"
     },
     "execution_count": 533,
     "metadata": {},
     "output_type": "execute_result"
    },
    {
     "data": {
      "text/plain": "<Figure size 432x288 with 1 Axes>",
      "image/png": "[encoded data removed]"
     },
     "metadata": {},
     "output_type": "display_data"
    }
   ],
   "source": [
    "nx.draw(g,\n",
    "        pos=nx.get_node_attributes(g,'pos'),\n",
    "        with_labels=True,\n",
    "        node_color=nx.get_node_attributes(g, 'color').values())\n",
    "\n",
    "plt.plot([low,high],[h,h])"
   ],
   "metadata": {
    "collapsed": false,
    "pycharm": {
     "name": "#%%\n"
    }
   }
  },
  {
   "cell_type": "code",
   "execution_count": 534,
   "outputs": [
    {
     "name": "stdout",
     "output_type": "stream",
     "text": [
      "flow: {'r0': {'t': 1}, 'r1': {'t': 1}, 'ai0': {'ao0': 0}, 'ao0': {'t': 0}, 's': {'r0': 1, 'r1': 1}, 't': {}}\n",
      "r0->t\n",
      "r1->t\n",
      "s->r0\n",
      "s->r1\n",
      "cost: 0\n"
     ]
    }
   ],
   "source": [
    "# add dummy source and target to use flow\n",
    "for i in range(len(robots)):\n",
    "    g.add_edge('s', f'r{i}', weight=0, capacity=1)\n",
    "    g.add_edge(f'r{i}', 't', weight=0, capacity=1)\n",
    "\n",
    "for i in range(len(agents)):\n",
    "    g.add_edge(f'ao{i}', 't', weight=0, capacity=1)\n",
    "\n",
    "flow = nx.max_flow_min_cost(g, 's', 't')\n",
    "\n",
    "print(f'flow: {flow}')\n",
    "for v1, vs in flow.items():\n",
    "    for v2 in vs:\n",
    "        if vs[v2]:\n",
    "            print(f'{v1}->{v2}')\n",
    "print(f'cost: {nx.cost_of_flow(g, flow)}')"
   ],
   "metadata": {
    "collapsed": false,
    "pycharm": {
     "name": "#%%\n"
    }
   }
  },
  {
   "cell_type": "markdown",
   "source": [
    "## Multi-Line Reachability Graph"
   ],
   "metadata": {
    "collapsed": false
   }
  },
  {
   "cell_type": "code",
   "execution_count": 535,
   "outputs": [],
   "source": [
    "H = [10,20,40]\n",
    "added_cost = {40: -1, 20:-20, 10:-10}\n",
    "\n",
    "g = nx.DiGraph()\n",
    "\n",
    "# create robots\n",
    "for i in range(len(robots)):\n",
    "    g.add_node(f'r{i}', pos=robots[i], color='cyan')\n",
    "\n",
    "# create agents divided to in and out\n",
    "for i in range(len(agents)):\n",
    "    prev_h = None\n",
    "    for h in H:\n",
    "        g.add_node(f'{h}-ai{i}', color='pink')\n",
    "        g.add_node(f'{h}-ao{i}', color='pink')\n",
    "\n",
    "        g.add_edge(f'{h}-ai{i}', f'{h}-ao{i}', weight=added_cost[h], capacity=1)\n",
    "        if prev_h:\n",
    "            g.add_edge(f'{prev_h}-ao{i}', f'{h}-ai{i}', capacity=1)\n",
    "        prev_h = h\n",
    "\n",
    "# add edges from robots to agents\n",
    "for i in range(len(agents)):\n",
    "    for j in range(len(robots)):\n",
    "        for h in H:\n",
    "            if can_stop_on_line(robots[j], agents[i], h):\n",
    "                g.add_edge(f'r{j}', f'{h}-ai{i}', weight=0, capacity=1)\n",
    "\n",
    "\n",
    "# add edges between agents\n",
    "for i in range(len(agents)):\n",
    "    for j in range(len(agents)):\n",
    "        if i is j:\n",
    "            continue\n",
    "        for h1 in H:\n",
    "            for h2 in H:\n",
    "                if can_stop_on_line((agents[i][0],h1), (agents[j][0], agents[j][1]+(h1-agents[i][1])) ,h2):\n",
    "                    g.add_edge(f'{h1}-ao{i}', f'{h2}-ai{j}', weight=0, capacity=1)"
   ],
   "metadata": {
    "collapsed": false,
    "pycharm": {
     "name": "#%%\n"
    }
   }
  },
  {
   "cell_type": "code",
   "execution_count": 536,
   "outputs": [
    {
     "data": {
      "text/plain": "{('r0', '20-ai0'): Text(0.0, 4.371138828673793e-08, '0'),\n ('r0', '40-ai0'): Text(-0.500000168883119, 0.4999999562886117, '0'),\n ('r1', '20-ai0'): Text(0.14644664525985718, -0.3535533567243334, '0'),\n ('r1', '40-ai0'): Text(-0.35355352362326187, 0.14644655585289001, '0'),\n ('10-ai0', '10-ao0'): Text(0.3535535097141951, -0.8535532653331757, '-10'),\n ('20-ai0', '20-ao0'): Text(0.8535533845424652, 0.3535534719652418, '-20'),\n ('40-ai0', '40-ao0'): Text(-0.3535534640186171, 0.8535535037517548, '-1')}"
     },
     "execution_count": 536,
     "metadata": {},
     "output_type": "execute_result"
    },
    {
     "data": {
      "text/plain": "<Figure size 432x288 with 1 Axes>",
      "image/png": "[encoded data removed]"
     },
     "metadata": {},
     "output_type": "display_data"
    }
   ],
   "source": [
    "pos = nx.shell_layout(g)\n",
    "nx.draw(g,\n",
    "        pos=pos,\n",
    "        with_labels=True,\n",
    "        node_color=nx.get_node_attributes(g, 'color').values())\n",
    "\n",
    "labels = nx.get_edge_attributes(g,'weight')\n",
    "nx.draw_networkx_edge_labels(g,pos,edge_labels=labels)"
   ],
   "metadata": {
    "collapsed": false,
    "pycharm": {
     "name": "#%%\n"
    }
   }
  },
  {
   "cell_type": "code",
   "execution_count": 537,
   "outputs": [
    {
     "name": "stdout",
     "output_type": "stream",
     "text": [
      "flow: {'r0': {'20-ai0': 1, '40-ai0': 0, 't': 0}, 'r1': {'20-ai0': 0, '40-ai0': 1, 't': 0}, '10-ai0': {'10-ao0': 0}, '10-ao0': {'20-ai0': 0, 't': 0}, '20-ai0': {'20-ao0': 1}, '20-ao0': {'40-ai0': 0, 't': 1}, '40-ai0': {'40-ao0': 1}, '40-ao0': {'t': 1}, 's': {'r0': 1, 'r1': 1}, 't': {}}\n",
      "20-ai0->20-ao0\n",
      "20-ao0->t\n",
      "40-ai0->40-ao0\n",
      "40-ao0->t\n",
      "r0->20-ai0\n",
      "r1->40-ai0\n",
      "s->r0\n",
      "s->r1\n",
      "cost: -21\n"
     ]
    }
   ],
   "source": [
    "# add dummy source and target to use flow\n",
    "for i in range(len(robots)):\n",
    "    g.add_edge('s', f'r{i}', weight=0, capacity=1)\n",
    "    g.add_edge(f'r{i}', 't', weight=0, capacity=1)\n",
    "\n",
    "for i in range(len(agents)):\n",
    "    for h in H:\n",
    "        g.add_edge(f'{h}-ao{i}', 't', weight=0, capacity=1)\n",
    "\n",
    "flow = nx.max_flow_min_cost(g, 's', 't')\n",
    "\n",
    "flow_moves = []\n",
    "print(f'flow: {flow}')\n",
    "for v1, vs in flow.items():\n",
    "    for v2 in vs:\n",
    "        if vs[v2]:\n",
    "            flow_moves.append([v1,v2])\n",
    "\n",
    "for move in sorted(flow_moves):\n",
    "    print(f'{move[0]}->{move[1]}')\n",
    "\n",
    "print(f'cost: {nx.cost_of_flow(g, flow)}')"
   ],
   "metadata": {
    "collapsed": false,
    "pycharm": {
     "name": "#%%\n"
    }
   }
  }
 ],
 "metadata": {
  "kernelspec": {
   "display_name": "Python 3",
   "language": "python",
   "name": "python3"
  },
  "language_info": {
   "codemirror_mode": {
    "name": "ipython",
    "version": 2
   },
   "file_extension": ".py",
   "mimetype": "text/x-python",
   "name": "python",
   "nbconvert_exporter": "python",
   "pygments_lexer": "ipython2",
   "version": "2.7.6"
  }
 },
 "nbformat": 4,
 "nbformat_minor": 0
}